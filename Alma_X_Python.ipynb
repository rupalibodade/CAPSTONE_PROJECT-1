{
  "nbformat": 4,
  "nbformat_minor": 0,
  "metadata": {
    "colab": {
      "provenance": [],
      "include_colab_link": true
    },
    "kernelspec": {
      "name": "python3",
      "display_name": "Python 3"
    },
    "language_info": {
      "name": "python"
    }
  },
  "cells": [
    {
      "cell_type": "markdown",
      "metadata": {
        "id": "view-in-github",
        "colab_type": "text"
      },
      "source": [
        "<a href=\"https://colab.research.google.com/github/rupalibodade/CAPSTONE_PROJECT-1/blob/main/Alma_X_Python.ipynb\" target=\"_parent\"><img src=\"https://colab.research.google.com/assets/colab-badge.svg\" alt=\"Open In Colab\"/></a>"
      ]
    },
    {
      "cell_type": "markdown",
      "source": [
        "# Coding Assessments"
      ],
      "metadata": {
        "id": "nUx2pMPruynR"
      }
    },
    {
      "cell_type": "markdown",
      "source": [
        "## Python level 1"
      ],
      "metadata": {
        "id": "nSsAt0MUu9Ky"
      }
    },
    {
      "cell_type": "markdown",
      "source": [
        "### Write a Python program to find the sum of two given integers. However, if the sum is between 15 to 20 it will return 20."
      ],
      "metadata": {
        "id": "ppOjbD0RvEwR"
      }
    },
    {
      "cell_type": "code",
      "source": [
        "a=int(input())\n",
        "b=int(input())\n",
        "sum = a+b\n",
        "if 15<sum<20:\n",
        "  sum=20\n",
        "print(sum)"
      ],
      "metadata": {
        "id": "mfF3CU3_eY5u",
        "outputId": "1507b4b2-d496-4807-a5ac-736a1395b54f",
        "colab": {
          "base_uri": "https://localhost:8080/"
        }
      },
      "execution_count": null,
      "outputs": [
        {
          "output_type": "stream",
          "name": "stdout",
          "text": [
            "15\n",
            "2\n",
            "20\n"
          ]
        }
      ]
    },
    {
      "cell_type": "markdown",
      "source": [
        "### Write a Python program to check if a number is positive, negative or zero."
      ],
      "metadata": {
        "id": "WOjuTCvtvJaE"
      }
    },
    {
      "cell_type": "code",
      "source": [
        "n=int(input())\n",
        "if n<0:\n",
        "  print('Negative')\n",
        "elif n==0:\n",
        "  print('Zero')\n",
        "else:\n",
        "  print('Positive')"
      ],
      "metadata": {
        "id": "hCHFibilvNCF",
        "outputId": "d34bdf63-cf83-4cb4-9ecc-23bed1ecddad",
        "colab": {
          "base_uri": "https://localhost:8080/"
        }
      },
      "execution_count": null,
      "outputs": [
        {
          "output_type": "stream",
          "name": "stdout",
          "text": [
            "-8\n",
            "Negative\n"
          ]
        }
      ]
    },
    {
      "cell_type": "markdown",
      "source": [
        "### Write a Python program to round a floating-point number to specified number decimal places."
      ],
      "metadata": {
        "id": "TLjLt8xAvQv_"
      }
    },
    {
      "cell_type": "markdown",
      "source": [
        "Example 1:\n",
        "Input:\n",
        "10.5247, 2\n",
        "\n",
        "Output:\n",
        "10.52"
      ],
      "metadata": {
        "id": "51Sh9OZ1eWhV"
      }
    },
    {
      "cell_type": "code",
      "source": [
        "el=float(input())\n",
        "e=int(input())\n",
        "ro=round(el,e)\n",
        "print(ro)"
      ],
      "metadata": {
        "id": "9yH4FisKvSP5",
        "outputId": "5ec35267-336d-4972-cba4-1cac9444ed09",
        "colab": {
          "base_uri": "https://localhost:8080/"
        }
      },
      "execution_count": null,
      "outputs": [
        {
          "output_type": "stream",
          "name": "stdout",
          "text": [
            "10.5247\n",
            "2\n",
            "10.52\n"
          ]
        }
      ]
    },
    {
      "cell_type": "markdown",
      "source": [
        "### Write a Python program to compute and print sum of two given integers (more than or equal to zero). If given integers or the sum have more than 80 digits, print \"overflow\"."
      ],
      "metadata": {
        "id": "43XQRfacvS7V"
      }
    },
    {
      "cell_type": "code",
      "source": [
        "u=int(input())\n",
        "v=int(input())\n",
        "sum=u+v\n",
        "if u>10**80 or v>10**80 or sum>10**80:\n",
        "  print('Overflow')\n",
        "else:\n",
        "  print(sum)"
      ],
      "metadata": {
        "id": "g6cawPiWvpdo",
        "outputId": "dbb3c455-2e3e-4714-8387-d0190729cfac",
        "colab": {
          "base_uri": "https://localhost:8080/"
        }
      },
      "execution_count": null,
      "outputs": [
        {
          "output_type": "stream",
          "name": "stdout",
          "text": [
            "555555555555555555555555555555555555555555555555555555555555555555555555555555555555555555555555555555555555555555555555\n",
            "5\n",
            "Overflow\n"
          ]
        }
      ]
    },
    {
      "cell_type": "markdown",
      "source": [
        "### Write a Python program to find whether a given number (accept from the user) is even or odd, print out an appropriate message to the user."
      ],
      "metadata": {
        "id": "Yenu2fHevp5J"
      }
    },
    {
      "cell_type": "markdown",
      "source": [
        "Example 1:\n",
        "Input:\n",
        "5\n",
        "\n",
        "Output:\n",
        "This is an odd number."
      ],
      "metadata": {
        "id": "CnsFoNA5vv2H"
      }
    },
    {
      "cell_type": "code",
      "source": [
        "x=int(input())\n",
        "if x%2==0:\n",
        "  print('This is an even number')\n",
        "else:\n",
        "  print('This is an odd number')"
      ],
      "metadata": {
        "id": "i3jJXR1MvvSe",
        "outputId": "05501b77-0cd8-4933-e38f-7eeb2188dbb9",
        "colab": {
          "base_uri": "https://localhost:8080/"
        }
      },
      "execution_count": null,
      "outputs": [
        {
          "output_type": "stream",
          "name": "stdout",
          "text": [
            "108\n",
            "This is an even number\n"
          ]
        }
      ]
    },
    {
      "cell_type": "markdown",
      "source": [
        "## Python level 2"
      ],
      "metadata": {
        "id": "PbO7xu4AvzZg"
      }
    },
    {
      "cell_type": "markdown",
      "source": [
        "### Write a Python program to print a specified list after removing the 0th, 4th and 5th elements"
      ],
      "metadata": {
        "id": "1gCCowRgv7r5"
      }
    },
    {
      "cell_type": "markdown",
      "source": [
        "Example 1:\n",
        "Input:\n",
        "['Red', 'Green', 'White', 'Black', 'Pink', 'Yellow']\n",
        "\n",
        "Output:\n",
        "['Green', 'White', 'Black']"
      ],
      "metadata": {
        "id": "KH85dEjywDBO"
      }
    },
    {
      "cell_type": "code",
      "source": [
        "lis=eval(input())\n",
        "up=[ele for x , ele in enumerate(lis) if x not in (0,4,5)]\n",
        "print(up)"
      ],
      "metadata": {
        "id": "0O4MIj9zwFyL",
        "outputId": "b14194fb-6138-4b54-b067-630633fddbc1",
        "colab": {
          "base_uri": "https://localhost:8080/"
        }
      },
      "execution_count": null,
      "outputs": [
        {
          "output_type": "stream",
          "name": "stdout",
          "text": [
            "['Red', 'Green', 'White', 'Black', 'Pink', 'Yellow']\n",
            "['Green', 'White', 'Black']\n"
          ]
        }
      ]
    },
    {
      "cell_type": "markdown",
      "source": [
        "### Write a Python program to get the largest number from a list."
      ],
      "metadata": {
        "id": "fIpyQ40FwHI2"
      }
    },
    {
      "cell_type": "markdown",
      "source": [
        "Example 1:\n",
        "Input:\n",
        "[1, 2, -8, 0]\n",
        "\n",
        "Output:\n",
        "2"
      ],
      "metadata": {
        "id": "rQZI4mLbwNy-"
      }
    },
    {
      "cell_type": "code",
      "source": [
        "li1=eval(input())\n",
        "print(max(li1))"
      ],
      "metadata": {
        "id": "rp4GZByhwQRr",
        "outputId": "c57bfa3a-6619-4dbb-84a0-8dd19ac08bc7",
        "colab": {
          "base_uri": "https://localhost:8080/"
        }
      },
      "execution_count": null,
      "outputs": [
        {
          "output_type": "stream",
          "name": "stdout",
          "text": [
            "[1, 2, -8, 0]\n",
            "2\n"
          ]
        }
      ]
    },
    {
      "cell_type": "markdown",
      "source": [
        "### Write a Python program to get the every nth element in a given list."
      ],
      "metadata": {
        "id": "7RIPwHJHwRby"
      }
    },
    {
      "cell_type": "markdown",
      "source": [
        "Example 1:\n",
        "Input:\n",
        "[1, 2, 3, 4, 5, 6, 7, 8, 9, 10]\n",
        "\n",
        "2\n",
        "\n",
        "Output:\n",
        "[2, 4, 6, 8, 10]"
      ],
      "metadata": {
        "id": "aWxTCCgYwVh1"
      }
    },
    {
      "cell_type": "code",
      "source": [
        "lis1=eval(input())\n",
        "n=int(input())\n",
        "print(lis1[n-1::n])"
      ],
      "metadata": {
        "id": "gvy50e0RwYqo",
        "outputId": "f19bea52-c38d-4e8a-e181-d87850a5105d",
        "colab": {
          "base_uri": "https://localhost:8080/"
        }
      },
      "execution_count": null,
      "outputs": [
        {
          "output_type": "stream",
          "name": "stdout",
          "text": [
            "[1, 2, 3, 4, 5, 6, 7, 8, 9, 10]\n",
            "2\n",
            "[2, 4, 6, 8, 10]\n"
          ]
        }
      ]
    },
    {
      "cell_type": "markdown",
      "source": [
        "### Write a Python program to get the smallest number from a list."
      ],
      "metadata": {
        "id": "dC2df67Uwc0d"
      }
    },
    {
      "cell_type": "markdown",
      "source": [
        "Example 1:\n",
        "Input:\n",
        "[1, 2, -8, 0]\n",
        "\n",
        "Output:\n",
        "-8"
      ],
      "metadata": {
        "id": "Dn8M9eagwef0"
      }
    },
    {
      "cell_type": "code",
      "source": [
        "dj=eval(input())\n",
        "print(min(dj))"
      ],
      "metadata": {
        "id": "mn8pzIoKwhC0",
        "outputId": "1e9b576e-1ca1-4190-e671-25c76cacde84",
        "colab": {
          "base_uri": "https://localhost:8080/"
        }
      },
      "execution_count": null,
      "outputs": [
        {
          "output_type": "stream",
          "name": "stdout",
          "text": [
            "[1, 2, -8, 0]\n",
            "-8\n"
          ]
        }
      ]
    },
    {
      "cell_type": "markdown",
      "source": [
        "### Write a Python program to sum all the items in a list."
      ],
      "metadata": {
        "id": "ImEh_KIKwira"
      }
    },
    {
      "cell_type": "markdown",
      "source": [
        "Example 1:\n",
        "Input:\n",
        "[1,2,-8]\n",
        "\n",
        "Output:\n",
        "-5"
      ],
      "metadata": {
        "id": "rLJGMLDtwnbQ"
      }
    },
    {
      "cell_type": "code",
      "source": [
        "ass=eval(input())\n",
        "print(sum(ass))"
      ],
      "metadata": {
        "id": "WvObLGykwuFM",
        "outputId": "c5c59217-d53a-44eb-9dc1-0a2ee2e95b88",
        "colab": {
          "base_uri": "https://localhost:8080/"
        }
      },
      "execution_count": null,
      "outputs": [
        {
          "output_type": "stream",
          "name": "stdout",
          "text": [
            "[1,2,-8]\n",
            "-5\n"
          ]
        }
      ]
    },
    {
      "cell_type": "markdown",
      "source": [
        "### Python level 3"
      ],
      "metadata": {
        "id": "tqmHJ1ihwwV8"
      }
    },
    {
      "cell_type": "markdown",
      "source": [
        "### Write a Python program to find the biggest even number between two numbers inclusive."
      ],
      "metadata": {
        "id": "FGSyur-dw0lr"
      }
    },
    {
      "cell_type": "markdown",
      "source": [
        "Example 1:\n",
        "Input:\n",
        "12\n",
        ", 51\n",
        "\n",
        "Output:\n",
        "50"
      ],
      "metadata": {
        "id": "5p-eYd5NxCZ2"
      }
    },
    {
      "cell_type": "code",
      "source": [
        "x=int(input())\n",
        "y=int(input())\n",
        "even=[ele for ele in range(x,y+1) if ele%2==0]\n",
        "big=max(even, default='-inf')\n",
        "print(big)"
      ],
      "metadata": {
        "id": "f5lOaX7Owz8H",
        "outputId": "567b2aef-c21d-489c-c5ef-d00234cbc677",
        "colab": {
          "base_uri": "https://localhost:8080/"
        }
      },
      "execution_count": null,
      "outputs": [
        {
          "output_type": "stream",
          "name": "stdout",
          "text": [
            "12\n",
            "51\n",
            "50\n"
          ]
        }
      ]
    },
    {
      "cell_type": "markdown",
      "source": [
        "### Write a Python program to find the indexes of numbers of a given list below a given threshold."
      ],
      "metadata": {
        "id": "8vFg1rs_xJmm"
      }
    },
    {
      "cell_type": "markdown",
      "source": [
        "Example 1:\n",
        "Input:\n",
        "[0, 12, 45, 3, 4923, 322, 105, 29, 15, 39, 55]\n",
        "\n",
        "100\n",
        "\n",
        "Output:\n",
        "[0, 1, 2, 3, 7, 8, 9, 10]"
      ],
      "metadata": {
        "id": "Seai2zPhxNtU"
      }
    },
    {
      "cell_type": "code",
      "source": [],
      "metadata": {
        "id": "hAk3ERJNxZEC"
      },
      "execution_count": null,
      "outputs": []
    },
    {
      "cell_type": "markdown",
      "source": [
        "### Write a Python program to remove None value from a given list. (Using list comprehension)"
      ],
      "metadata": {
        "id": "mK0UJzQ7xb6k"
      }
    },
    {
      "cell_type": "markdown",
      "source": [
        "Input:\n",
        "[12, 0, None, 23, None, -55, 234, 89, None, 0, 6, -12]\n",
        "\n",
        "Output:\n",
        "[12, 0, 23, -55, 234, 89, 0, 6, -12]"
      ],
      "metadata": {
        "id": "bxTZjr4sxgHs"
      }
    },
    {
      "cell_type": "code",
      "source": [
        "xx=eval(input())\n",
        "wn=[ele for ele in xx if ele is not None]\n",
        "print(wn)"
      ],
      "metadata": {
        "id": "5EbANjbPxi8q",
        "outputId": "5513c304-b4cd-4374-e321-58d00b87a362",
        "colab": {
          "base_uri": "https://localhost:8080/"
        }
      },
      "execution_count": null,
      "outputs": [
        {
          "output_type": "stream",
          "name": "stdout",
          "text": [
            "[12, 0, None, 23, None, -55, 234, 89, None, 0, 6, -12]\n",
            "[12, 0, 23, -55, 234, 89, 0, 6, -12]\n"
          ]
        }
      ]
    },
    {
      "cell_type": "markdown",
      "source": [
        "### Write a Python program to find the indexes of all None items in a given list."
      ],
      "metadata": {
        "id": "czTseP45xoLx"
      }
    },
    {
      "cell_type": "markdown",
      "source": [
        "Input:\n",
        "[1, None, 5, 4,None, 0, None, None]\n",
        "\n",
        "Output:\n",
        "[1, 4, 6, 7]"
      ],
      "metadata": {
        "id": "UwVryb85xpHg"
      }
    },
    {
      "cell_type": "code",
      "source": [
        "x2=eval(input())\n",
        "index=[i for i, x in enumerate(x2) if x is None]\n",
        "print(index)"
      ],
      "metadata": {
        "id": "_D4Rjod9x2FG",
        "outputId": "ee7ea8ef-0fe2-4eaf-a656-b77e62bbe24a",
        "colab": {
          "base_uri": "https://localhost:8080/"
        }
      },
      "execution_count": null,
      "outputs": [
        {
          "output_type": "stream",
          "name": "stdout",
          "text": [
            "[1, None, 5, 4,None, 0, None, None]\n",
            "[1, 4, 6, 7]\n"
          ]
        }
      ]
    },
    {
      "cell_type": "markdown",
      "source": [
        "### Write a Python program to remove specific words from a given list. (Using List comprehension)"
      ],
      "metadata": {
        "id": "111U6nYbxq_y"
      }
    },
    {
      "cell_type": "markdown",
      "source": [
        "Input:\n",
        "['red', 'green', 'blue', 'white', 'black', 'orange']\n",
        "\n",
        "['white', 'orange']\n",
        "\n",
        "Output:\n",
        "['red', 'green', 'blue', 'black']"
      ],
      "metadata": {
        "id": "WnO23xF4xu24"
      }
    },
    {
      "cell_type": "code",
      "source": [
        "xx12=eval(input())\n",
        "sub=eval(input())\n",
        "op=[ele for ele in xx12 if ele not in sub]\n",
        "print(op)"
      ],
      "metadata": {
        "id": "-pyZyw0ux0_Y",
        "outputId": "93a05fe2-fbdd-4117-8af8-823e65257468",
        "colab": {
          "base_uri": "https://localhost:8080/"
        }
      },
      "execution_count": null,
      "outputs": [
        {
          "output_type": "stream",
          "name": "stdout",
          "text": [
            "['red', 'green', 'blue', 'white', 'black', 'orange']\n",
            "['white', 'orange']\n",
            "['red', 'green', 'blue', 'black']\n"
          ]
        }
      ]
    },
    {
      "cell_type": "markdown",
      "source": [
        "## Python level 4"
      ],
      "metadata": {
        "id": "gpIRC9etxxli"
      }
    },
    {
      "cell_type": "markdown",
      "source": [
        "### Write a Python program to calculate Euclidean Distance."
      ],
      "metadata": {
        "id": "2-8tp3ubyBtW"
      }
    },
    {
      "cell_type": "markdown",
      "source": [
        "Input:\n",
        "Given First point values P(x1, y1) : 6 , 7\n",
        "\n",
        "Given second point values Q(x2, y2) : 5, 4\n",
        "\n",
        "Output:\n",
        "The Euclidean Distance between the above given two points 'PQ' = 3.1622776601683795"
      ],
      "metadata": {
        "id": "1SchsIoYySXS"
      }
    },
    {
      "cell_type": "code",
      "source": [
        "x1,y1=6,7\n",
        "x2,y2=5,4\n",
        "dis=((x2-x1)**2 + (y2-y1)**2)**(1/2)\n",
        "print(dis)"
      ],
      "metadata": {
        "id": "IXH0uYtsyVWF",
        "outputId": "6b02594f-a527-4a56-c66d-1c1d1bac725a",
        "colab": {
          "base_uri": "https://localhost:8080/"
        }
      },
      "execution_count": null,
      "outputs": [
        {
          "output_type": "stream",
          "name": "stdout",
          "text": [
            "3.1622776601683795\n"
          ]
        }
      ]
    },
    {
      "cell_type": "markdown",
      "source": [
        "### Write a python program to remove a given character from string."
      ],
      "metadata": {
        "id": "Qq4upRWCyYdo"
      }
    },
    {
      "cell_type": "markdown",
      "source": [
        "Input:\n",
        "AlmaBetter , t\n",
        "\n",
        "Output:\n",
        "almabe er"
      ],
      "metadata": {
        "id": "_Ajl0YuLyamv"
      }
    },
    {
      "cell_type": "code",
      "source": [
        "alm=input()\n",
        "ep=input()\n",
        "alm=alm.lower()\n",
        "print(alm.replace(ep,\" \"))"
      ],
      "metadata": {
        "id": "qozdYcBlyc-P",
        "outputId": "90d39641-c0ff-4dfa-9328-a2857f53f977",
        "colab": {
          "base_uri": "https://localhost:8080/"
        }
      },
      "execution_count": null,
      "outputs": [
        {
          "output_type": "stream",
          "name": "stdout",
          "text": [
            "AlmaBetter\n",
            "t\n",
            "almabe  er\n"
          ]
        }
      ]
    },
    {
      "cell_type": "markdown",
      "source": [
        "### Write a python program to find the last position of a given substring."
      ],
      "metadata": {
        "id": "CFrbr-DCymce"
      }
    },
    {
      "cell_type": "markdown",
      "source": [
        "Input:\n",
        "Emma is a data scientist who knows Python. Emma works at google.\n",
        "\n",
        "Emma\n",
        "\n",
        "Output:\n",
        "Last occurrence of Emma starts at index 43"
      ],
      "metadata": {
        "id": "B7O7JPWqyoT0"
      }
    },
    {
      "cell_type": "code",
      "source": [
        "stx=input()\n",
        "subx=input()\n",
        "inx=stx.rfind(subx)\n",
        "print(f'Last occurrence of {subx} starts at index {inx}')"
      ],
      "metadata": {
        "id": "J4Ga-2xqyrAK",
        "outputId": "024298dd-2ce3-4027-a53b-8fc1813af009",
        "colab": {
          "base_uri": "https://localhost:8080/"
        }
      },
      "execution_count": null,
      "outputs": [
        {
          "output_type": "stream",
          "name": "stdout",
          "text": [
            "Emma is a data scientist who knows Python. Emma works at google.\n",
            "Emma\n",
            "Last occurrence of Emma starts at index 43\n"
          ]
        }
      ]
    },
    {
      "cell_type": "markdown",
      "source": [
        "### Write a Python program to find common items from two lists."
      ],
      "metadata": {
        "id": "9UMyaBuVyt4v"
      }
    },
    {
      "cell_type": "markdown",
      "source": [
        "Input:\n",
        "[\"Red\", \"Green\", \"Orange\", \"White\"]\n",
        "\n",
        "[\"Black\", \"Green\", \"White\", \"Pink\"]\n",
        "\n",
        "Output:\n",
        "['Green', 'White']"
      ],
      "metadata": {
        "id": "viOXTpOzyvl6"
      }
    },
    {
      "cell_type": "code",
      "source": [
        "ta=eval(input())\n",
        "ti=eval(input())\n",
        "comm=[ele for ele in ta if ele in ti]\n",
        "print(comm)"
      ],
      "metadata": {
        "id": "WbHqnYSjyy4c",
        "outputId": "6c038c19-50a0-42b4-b66e-0e35bb18cc56",
        "colab": {
          "base_uri": "https://localhost:8080/"
        }
      },
      "execution_count": null,
      "outputs": [
        {
          "output_type": "stream",
          "name": "stdout",
          "text": [
            "[\"Red\", \"Green\", \"Orange\", \"White\"]\n",
            "[\"Black\", \"Green\", \"White\", \"Pink\"]\n",
            "['Green', 'White']\n"
          ]
        }
      ]
    },
    {
      "cell_type": "markdown",
      "source": [
        "### Write a Python program to check whether a String is Palindrome or not?"
      ],
      "metadata": {
        "id": "jO5mOE2tyyUP"
      }
    },
    {
      "cell_type": "markdown",
      "source": [
        "Input:\n",
        "madam\n",
        "\n",
        "Output:\n",
        "String is a Palindrome"
      ],
      "metadata": {
        "id": "jwtbkry_y39Q"
      }
    },
    {
      "cell_type": "code",
      "source": [
        "pal=input()\n",
        "com=\"String is a Palindrome\" if pal[::-1] else 'String is not a Palindrone'\n",
        "print(com)"
      ],
      "metadata": {
        "id": "xfNJQ0DEy63G",
        "outputId": "32d06d6e-3de5-47db-8f90-448279421dc1",
        "colab": {
          "base_uri": "https://localhost:8080/"
        }
      },
      "execution_count": null,
      "outputs": [
        {
          "output_type": "stream",
          "name": "stdout",
          "text": [
            "madam\n",
            "String is a Palindrome\n"
          ]
        }
      ]
    },
    {
      "cell_type": "markdown",
      "source": [
        "## Python level 5"
      ],
      "metadata": {
        "id": "Opiz_5mXzJ6o"
      }
    },
    {
      "cell_type": "markdown",
      "source": [
        "### Write a Python program to swap two number without using third variable."
      ],
      "metadata": {
        "id": "o3OhQZPwzNax"
      }
    },
    {
      "cell_type": "markdown",
      "source": [
        " Input:\n",
        "\n",
        "a=9\n",
        "\n",
        "b=2\n",
        "\n",
        "Output:\n",
        "\n",
        "value of a is : 9\n",
        "\n",
        "value of b is : 2\n",
        "\n",
        "After swapping\n",
        "\n",
        "value of a is : 2\n",
        "\n",
        "value of b is : 9\n",
        "\n"
      ],
      "metadata": {
        "id": "HeLOaIXrzZM6"
      }
    },
    {
      "cell_type": "code",
      "source": [
        "a=int(input())\n",
        "b=int(input())\n",
        "print(f'value of a is : {a}')\n",
        "print(f'value of b is : {b}')\n",
        "print('After swapping')\n",
        "a=a-b\n",
        "b=a+b\n",
        "a=b-a\n",
        "print(f'value of a is : {a}')\n",
        "print(f'value of b is : {b}')"
      ],
      "metadata": {
        "id": "5y2kzioAzcgG",
        "outputId": "50b01654-d850-44e9-85af-438a07863a20",
        "colab": {
          "base_uri": "https://localhost:8080/"
        }
      },
      "execution_count": null,
      "outputs": [
        {
          "output_type": "stream",
          "name": "stdout",
          "text": [
            "9\n",
            "2\n",
            "value of a is : 9\n",
            "value of b is : 2\n",
            "After swapping\n",
            "value of a is : 2\n",
            "value of b is : 9\n"
          ]
        }
      ]
    },
    {
      "cell_type": "markdown",
      "source": [
        "### Write a python program to check a given number is perfect or not.\n",
        "\n",
        "Note: A perfect number is a positive integer that is equal to the sum of its positive divisors, excluding the number itself.\n",
        "\n",
        "Lets understand it with example\n",
        "\n",
        "6 is a positive number and its divisor is 1,2,3 and 6 itself.\n",
        "\n",
        "But we should not include 6 as by the definition of perfect number.\n",
        "\n",
        "Lets add its divisor excluding itself\n",
        "\n",
        "1+2+3 = 6 which is equal to number itself.\n",
        "\n",
        "It means 6 is a Perfect Number."
      ],
      "metadata": {
        "id": "ArG4BgS8z2_s"
      }
    },
    {
      "cell_type": "markdown",
      "source": [
        "Input:\n",
        "28\n",
        "\n",
        "Output:\n",
        "It is Perfect Number"
      ],
      "metadata": {
        "id": "BeXng_Me0ChT"
      }
    },
    {
      "cell_type": "code",
      "source": [
        "pe=int(input())\n",
        "text=[]"
      ],
      "metadata": {
        "id": "ekqLfUq_z-qz"
      },
      "execution_count": null,
      "outputs": []
    },
    {
      "cell_type": "markdown",
      "source": [
        "### Write a Python program to change the position of every nth value with the (n+1)th in a list."
      ],
      "metadata": {
        "id": "BlNaSKlG0FIK"
      }
    },
    {
      "cell_type": "markdown",
      "source": [
        "Input:\n",
        "[1, 0, 3, 2, 5, 4]\n",
        "\n",
        "Output:\n",
        "[0, 1, 2, 3, 4, 5]"
      ],
      "metadata": {
        "id": "z1WksfyM0Jo2"
      }
    },
    {
      "cell_type": "code",
      "source": [
        "po=eval(input())\n",
        "print(sorted(po))"
      ],
      "metadata": {
        "id": "Pn9Uq_Zy0weJ",
        "outputId": "0eddb23e-bf80-47c5-9a09-3573439330df",
        "colab": {
          "base_uri": "https://localhost:8080/"
        }
      },
      "execution_count": null,
      "outputs": [
        {
          "output_type": "stream",
          "name": "stdout",
          "text": [
            "[1, 0, 3, 2, 5, 4]\n",
            "[0, 1, 2, 3, 4, 5]\n"
          ]
        }
      ]
    },
    {
      "cell_type": "markdown",
      "source": [
        "### Write a Python program to compute the difference between two lists."
      ],
      "metadata": {
        "id": "FqfcPJR_0O0I"
      }
    },
    {
      "cell_type": "markdown",
      "source": [
        "Input:\n",
        "\n",
        "L1=[\"red\", \"orange\", \"green\", \"blue\", \"white\"]\n",
        "\n",
        "L2=[\"black\", \"yellow\", \"green\", \"blue\"]\n",
        "\n",
        "Output:\n",
        "\n",
        "L1-L2= ['orange', 'red', 'white']\n",
        "\n",
        "L2-L1= ['black', 'yellow']"
      ],
      "metadata": {
        "id": "szq_Tjau0P3H"
      }
    },
    {
      "cell_type": "code",
      "source": [
        "xx1=eval(input())\n",
        "xx2=eval(input())\n",
        "f1=[i for i in xx1 if i not in xx2]\n",
        "f2=[i for i in xx2 if i not in xx1]\n",
        "print(f'L1-L2= {f1}')\n",
        "print(f'L2-L1= {f2}')"
      ],
      "metadata": {
        "id": "p6SfSEd50OQA",
        "outputId": "dd621b3e-ebe8-4ae4-91bd-04f487f76ab5",
        "colab": {
          "base_uri": "https://localhost:8080/"
        }
      },
      "execution_count": null,
      "outputs": [
        {
          "output_type": "stream",
          "name": "stdout",
          "text": [
            "[\"red\", \"orange\", \"green\", \"blue\", \"white\"]\n",
            "[\"black\", \"yellow\", \"green\", \"blue\"]\n",
            "L1-L2= ['red', 'orange', 'white']\n",
            "L2-L1= ['black', 'yellow']\n"
          ]
        }
      ]
    },
    {
      "cell_type": "markdown",
      "source": [
        "### Write a Python program to find a tuple, the smallest second index value from a list of tuples."
      ],
      "metadata": {
        "id": "XnYD0ATm0aRd"
      }
    },
    {
      "cell_type": "markdown",
      "source": [
        "Input:\n",
        "  x= [(4, 1), (1, 2), (6, 0)]\n",
        "\n",
        "Output:\n",
        "(6, 0)"
      ],
      "metadata": {
        "id": "g1jTZFQM0egg"
      }
    },
    {
      "cell_type": "code",
      "source": [
        "lal=eval(input())\n",
        "f= (ele for ele in lal if min(ele[1]))\n",
        "print(f)"
      ],
      "metadata": {
        "id": "55fbW6HQ0pUr",
        "outputId": "befd5f92-b6ad-4cf0-c6d1-66c928775cb2",
        "colab": {
          "base_uri": "https://localhost:8080/"
        }
      },
      "execution_count": null,
      "outputs": [
        {
          "output_type": "stream",
          "name": "stdout",
          "text": [
            "[(4, 1), (1, 2), (6, 0)]\n",
            "<generator object <genexpr> at 0x7d81e7ff8e40>\n"
          ]
        }
      ]
    },
    {
      "cell_type": "markdown",
      "source": [
        "## Python level 6"
      ],
      "metadata": {
        "id": "LxFLIiDd13Il"
      }
    },
    {
      "cell_type": "markdown",
      "source": [
        "### Write a Python program to find the items starts with specific character from a given list."
      ],
      "metadata": {
        "id": "JHSpvyy9078W"
      }
    },
    {
      "cell_type": "markdown",
      "source": [
        "Input:\n",
        "\n",
        "['abcd', 'abc', 'bcd', 'bkie', 'cder', 'cdsw', 'sdfsd', 'dagfa', 'acjd']\n",
        "\n",
        "a\n",
        "\n",
        "Output:\n",
        "\n",
        "Items start with a from the said list:\n",
        "\n",
        "['abcd', 'abc', 'acjd']"
      ],
      "metadata": {
        "id": "QBMsy0Zl09hN"
      }
    },
    {
      "cell_type": "code",
      "source": [
        "sta=eval(input())\n",
        "sx=input()\n",
        "final=[e for e in sta if e.start(sx)]\n",
        "print(final)"
      ],
      "metadata": {
        "id": "4PQNdKVB1BTO",
        "outputId": "c6930455-22aa-456c-8f24-742c82a0e53d",
        "colab": {
          "base_uri": "https://localhost:8080/",
          "height": 366
        }
      },
      "execution_count": null,
      "outputs": [
        {
          "name": "stdout",
          "output_type": "stream",
          "text": [
            "['abcd', 'abc', 'bcd', 'bkie', 'cder', 'cdsw', 'sdfsd', 'dagfa', 'acjd']\n",
            "a\n"
          ]
        },
        {
          "output_type": "error",
          "ename": "AttributeError",
          "evalue": "ignored",
          "traceback": [
            "\u001b[0;31m---------------------------------------------------------------------------\u001b[0m",
            "\u001b[0;31mAttributeError\u001b[0m                            Traceback (most recent call last)",
            "\u001b[0;32m<ipython-input-1-1bbb538b11c0>\u001b[0m in \u001b[0;36m<cell line: 3>\u001b[0;34m()\u001b[0m\n\u001b[1;32m      1\u001b[0m \u001b[0msta\u001b[0m\u001b[0;34m=\u001b[0m\u001b[0meval\u001b[0m\u001b[0;34m(\u001b[0m\u001b[0minput\u001b[0m\u001b[0;34m(\u001b[0m\u001b[0;34m)\u001b[0m\u001b[0;34m)\u001b[0m\u001b[0;34m\u001b[0m\u001b[0;34m\u001b[0m\u001b[0m\n\u001b[1;32m      2\u001b[0m \u001b[0msx\u001b[0m\u001b[0;34m=\u001b[0m\u001b[0minput\u001b[0m\u001b[0;34m(\u001b[0m\u001b[0;34m)\u001b[0m\u001b[0;34m\u001b[0m\u001b[0;34m\u001b[0m\u001b[0m\n\u001b[0;32m----> 3\u001b[0;31m \u001b[0mfinal\u001b[0m\u001b[0;34m=\u001b[0m\u001b[0;34m[\u001b[0m\u001b[0me\u001b[0m \u001b[0;32mfor\u001b[0m \u001b[0me\u001b[0m \u001b[0;32min\u001b[0m \u001b[0msta\u001b[0m \u001b[0;32mif\u001b[0m \u001b[0me\u001b[0m\u001b[0;34m.\u001b[0m\u001b[0mstarts\u001b[0m\u001b[0;34m(\u001b[0m\u001b[0msx\u001b[0m\u001b[0;34m)\u001b[0m\u001b[0;34m]\u001b[0m\u001b[0;34m\u001b[0m\u001b[0;34m\u001b[0m\u001b[0m\n\u001b[0m\u001b[1;32m      4\u001b[0m \u001b[0mprint\u001b[0m\u001b[0;34m(\u001b[0m\u001b[0mfinal\u001b[0m\u001b[0;34m)\u001b[0m\u001b[0;34m\u001b[0m\u001b[0;34m\u001b[0m\u001b[0m\n",
            "\u001b[0;32m<ipython-input-1-1bbb538b11c0>\u001b[0m in \u001b[0;36m<listcomp>\u001b[0;34m(.0)\u001b[0m\n\u001b[1;32m      1\u001b[0m \u001b[0msta\u001b[0m\u001b[0;34m=\u001b[0m\u001b[0meval\u001b[0m\u001b[0;34m(\u001b[0m\u001b[0minput\u001b[0m\u001b[0;34m(\u001b[0m\u001b[0;34m)\u001b[0m\u001b[0;34m)\u001b[0m\u001b[0;34m\u001b[0m\u001b[0;34m\u001b[0m\u001b[0m\n\u001b[1;32m      2\u001b[0m \u001b[0msx\u001b[0m\u001b[0;34m=\u001b[0m\u001b[0minput\u001b[0m\u001b[0;34m(\u001b[0m\u001b[0;34m)\u001b[0m\u001b[0;34m\u001b[0m\u001b[0;34m\u001b[0m\u001b[0m\n\u001b[0;32m----> 3\u001b[0;31m \u001b[0mfinal\u001b[0m\u001b[0;34m=\u001b[0m\u001b[0;34m[\u001b[0m\u001b[0me\u001b[0m \u001b[0;32mfor\u001b[0m \u001b[0me\u001b[0m \u001b[0;32min\u001b[0m \u001b[0msta\u001b[0m \u001b[0;32mif\u001b[0m \u001b[0me\u001b[0m\u001b[0;34m.\u001b[0m\u001b[0mstarts\u001b[0m\u001b[0;34m(\u001b[0m\u001b[0msx\u001b[0m\u001b[0;34m)\u001b[0m\u001b[0;34m]\u001b[0m\u001b[0;34m\u001b[0m\u001b[0;34m\u001b[0m\u001b[0m\n\u001b[0m\u001b[1;32m      4\u001b[0m \u001b[0mprint\u001b[0m\u001b[0;34m(\u001b[0m\u001b[0mfinal\u001b[0m\u001b[0;34m)\u001b[0m\u001b[0;34m\u001b[0m\u001b[0;34m\u001b[0m\u001b[0m\n",
            "\u001b[0;31mAttributeError\u001b[0m: 'str' object has no attribute 'starts'"
          ]
        }
      ]
    },
    {
      "cell_type": "markdown",
      "source": [
        "### Write a Python Program to Find Next Prime Number."
      ],
      "metadata": {
        "id": "eEeM6oXO2De6"
      }
    },
    {
      "cell_type": "markdown",
      "source": [
        "Input:\n",
        "Given Number = 48\n",
        "\n",
        "Output:\n",
        "The next prime number of 48 is: 53"
      ],
      "metadata": {
        "id": "ncm7BCrZ2HZN"
      }
    },
    {
      "cell_type": "code",
      "source": [],
      "metadata": {
        "id": "D3PNCe7x2JZZ"
      },
      "execution_count": null,
      "outputs": []
    },
    {
      "cell_type": "markdown",
      "source": [
        "### Write a Python program to find the largest negative and smallest positive numbers (or 0 if none)."
      ],
      "metadata": {
        "id": "Df3EMytR2NHA"
      }
    },
    {
      "cell_type": "markdown",
      "source": [
        "Input:\n",
        "\n",
        "[-12, -6, 300, -40, 2, 2, 3, 57, -50, -22, 12, 40, 9, 11, 18]\n",
        "\n",
        "Output:\n",
        "\n",
        "Largest negative and smallest positive numbers (or 0 if none) of the said list:\n",
        "\n",
        "[-6, 2]"
      ],
      "metadata": {
        "id": "hN2cqDYG2O6E"
      }
    },
    {
      "cell_type": "code",
      "source": [
        "ds=eval(input())\n",
        "def te(ds):\n",
        "  pos=[e for e in ds if e>0]\n",
        "  neg=[e for e in ds if e<0]\n",
        "  return [max(neg) if neg else 0, min(pos) if pos else 0]\n",
        "print(f\"Largest negative and smallest positive numbers (or 0 if none) of the said list: {te(ds)}\")\n"
      ],
      "metadata": {
        "id": "iphvEOZO2So4",
        "outputId": "97aa1aaa-9be6-46d5-e280-23bf4e320e98",
        "colab": {
          "base_uri": "https://localhost:8080/"
        }
      },
      "execution_count": null,
      "outputs": [
        {
          "output_type": "stream",
          "name": "stdout",
          "text": [
            "[-12, -6, 300, -40, 2, 2, 3, 57, -50, -22, 12, 40, 9, 11, 18]\n",
            "Largest negative and smallest positive numbers (or 0 if none) of the said list: [-6, 2]\n"
          ]
        }
      ]
    },
    {
      "cell_type": "markdown",
      "source": [
        "### Write a Python program to remove duplicate characters of a given string."
      ],
      "metadata": {
        "id": "tFnNHdtE2VIv"
      }
    },
    {
      "cell_type": "markdown",
      "source": [
        "Input:\n",
        "\n",
        "python exercises practice solution\n",
        "\n",
        "Output:\n",
        "\n",
        "python exrcisalu"
      ],
      "metadata": {
        "id": "yDviuMZK2WkZ"
      }
    },
    {
      "cell_type": "code",
      "source": [
        "py=input()\n",
        "nx=[]\n",
        "nd=''.join(e for e in py if e not in nx )\n",
        "print(nd)"
      ],
      "metadata": {
        "id": "2t62ExcF2aWd",
        "outputId": "c3fd3458-22bb-4cb1-ebfa-0b7e4e461cf5",
        "colab": {
          "base_uri": "https://localhost:8080/"
        }
      },
      "execution_count": null,
      "outputs": [
        {
          "output_type": "stream",
          "name": "stdout",
          "text": [
            "python exercises practice solution\n",
            "python exercises practice solution\n"
          ]
        }
      ]
    },
    {
      "cell_type": "markdown",
      "source": [
        "### Write a Python program to find whether a given string starts with a given character using Lambda."
      ],
      "metadata": {
        "id": "Fynr9Vhn2dAf"
      }
    },
    {
      "cell_type": "markdown",
      "source": [
        "Input:\n",
        "\n",
        "Python\n",
        "\n",
        "P\n",
        "\n",
        "Output:\n",
        "\n",
        "True"
      ],
      "metadata": {
        "id": "i9hPMCiQ2ela"
      }
    },
    {
      "cell_type": "code",
      "source": [],
      "metadata": {
        "id": "mbjWhTZR2iXH"
      },
      "execution_count": null,
      "outputs": []
    }
  ]
}